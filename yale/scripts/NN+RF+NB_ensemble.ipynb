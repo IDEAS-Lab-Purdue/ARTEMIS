{
 "cells": [
  {
   "cell_type": "markdown",
   "metadata": {},
   "source": [
    "# Imports"
   ]
  },
  {
   "cell_type": "code",
   "execution_count": 69,
   "metadata": {},
   "outputs": [],
   "source": [
    "import pandas as pd\n",
    "import numpy as np\n",
    "import torch\n",
    "import pickle\n",
    "\n",
    "import numpy as np\n",
    "import pandas as pd\n",
    "import matplotlib.pyplot as plt\n",
    "from collections import defaultdict\n",
    "from sklearn.model_selection import KFold\n",
    "from tensorflow.keras import regularizers\n",
    "from sklearn.metrics import accuracy_score, precision_score, recall_score, ConfusionMatrixDisplay\n",
    "from sklearn.preprocessing import OneHotEncoder\n",
    "from sklearn.model_selection import train_test_split\n",
    "\n",
    "import tensorflow as tf\n",
    "from tensorflow import keras\n",
    "from tensorflow.keras import layers\n",
    "import torch"
   ]
  },
  {
   "cell_type": "markdown",
   "metadata": {},
   "source": [
    "# Get Models"
   ]
  },
  {
   "cell_type": "code",
   "execution_count": 70,
   "metadata": {},
   "outputs": [],
   "source": [
    "nb_path = '/media/csuser/DATA/ARTEMIS/models/NaiveBayes_yale_smote.pickle'\n",
    "rf_path = '/media/csuser/DATA/ARTEMIS/models/RF_yale_smote.pickle'\n",
    "nn_path = '/media/csuser/DATA/ARTEMIS/models/yale_smote'"
   ]
  },
  {
   "cell_type": "code",
   "execution_count": 71,
   "metadata": {},
   "outputs": [
    {
     "data": {
      "text/plain": [
       "<tensorflow.python.checkpoint.checkpoint.CheckpointLoadStatus at 0x7f4488467dc0>"
      ]
     },
     "execution_count": 71,
     "metadata": {},
     "output_type": "execute_result"
    }
   ],
   "source": [
    "nb = pickle.load(open(nb_path, 'rb'))\n",
    "rf = pickle.load(open(rf_path, 'rb'))\n",
    "\n",
    "# # yale model\n",
    "def make_model(input_shape, num_classes):\n",
    "    inputs = keras.Input(shape=input_shape)\n",
    "    dense1 = layers.Dense(units=50, activation='ReLU', use_bias=True,)(inputs)\n",
    "    dense2 = layers.Dense(units=50, activation='ReLU', use_bias=True,)(dense1)\n",
    "    dense3 = layers.Dense(units=50, activation='ReLU', use_bias=True,)(dense2)\n",
    "    dense4 = layers.Dense(units=50, activation='ReLU', use_bias=True,)(dense3)\n",
    "    output = layers.Dense(units=num_classes, activation='softmax')(dense4)\n",
    "    return keras.Model(inputs, output)\n",
    "\n",
    "model = make_model(input_shape=(207), num_classes=5)\n",
    "\n",
    "# nn model\n",
    "model.load_weights(nn_path)"
   ]
  },
  {
   "cell_type": "markdown",
   "metadata": {},
   "source": [
    "# Get Data"
   ]
  },
  {
   "cell_type": "code",
   "execution_count": 72,
   "metadata": {},
   "outputs": [],
   "source": [
    "data = pd.read_csv(\"/media/csuser/DATA/ARTEMIS/yale/yale_triage_smote.csv\", sep=\",\")"
   ]
  },
  {
   "cell_type": "code",
   "execution_count": 73,
   "metadata": {},
   "outputs": [
    {
     "name": "stdout",
     "output_type": "stream",
     "text": [
      "0    4.0\n",
      "1    2.0\n",
      "2    3.0\n",
      "3    3.0\n",
      "4    4.0\n",
      "Name: esi, dtype: float64\n",
      "<class 'pandas.core.frame.DataFrame'>\n"
     ]
    }
   ],
   "source": [
    "# Split the data into features (X) and target (y)\n",
    "X = data.drop(['esi'], axis=1)\n",
    "y = data['esi']\n",
    "\n",
    "print(y.head())\n",
    "\n",
    "# Split the data into training and test sets\n",
    "X_train, X_test, y_train, y_test = train_test_split(X, y, test_size=0.2, random_state=1)\n",
    "\n",
    "print(type(X_train))"
   ]
  },
  {
   "cell_type": "markdown",
   "metadata": {},
   "source": [
    "# RF"
   ]
  },
  {
   "cell_type": "code",
   "execution_count": 74,
   "metadata": {},
   "outputs": [
    {
     "name": "stdout",
     "output_type": "stream",
     "text": [
      "torch.Size([117852, 1])\n",
      "[array([1, 2, 3, 4, 5])]\n"
     ]
    },
    {
     "data": {
      "text/plain": [
       "torch.Size([117852, 5])"
      ]
     },
     "execution_count": 74,
     "metadata": {},
     "output_type": "execute_result"
    }
   ],
   "source": [
    "X_test_rf = torch.tensor(X_test.values, dtype=torch.float64)\n",
    "y_test_rf = torch.tensor(y_test.values.reshape(-1,1), dtype=torch.long)\n",
    "\n",
    "print(y_test_rf.shape)\n",
    "\n",
    "# convert to one hot vector\n",
    "from sklearn.preprocessing import OneHotEncoder\n",
    "ohe = OneHotEncoder(handle_unknown='ignore', sparse=False).fit(y_test_rf)\n",
    "print(ohe.categories_)\n",
    "\n",
    "y_test_rf = torch.from_numpy(ohe.transform(y_test_rf))\n",
    "y_test_rf.shape"
   ]
  },
  {
   "cell_type": "code",
   "execution_count": 75,
   "metadata": {},
   "outputs": [
    {
     "name": "stdout",
     "output_type": "stream",
     "text": [
      "torch.Size([117852, 5])\n",
      "(117852, 5)\n",
      "tensor([4, 4, 0,  ..., 1, 4, 1])\n",
      "[1 5 1 ... 2 4 2]\n"
     ]
    }
   ],
   "source": [
    "y_pred_rf = rf.predict(X_test_rf.numpy())\n",
    "from numpy import argmax\n",
    "\n",
    "print(y_test_rf.shape)\n",
    "print(y_pred_rf.shape)\n",
    "y_test_rf = argmax(a=y_test_rf, axis=1)\n",
    "y_pred_rf = argmax(a=y_pred_rf, axis=1)\n",
    "print(y_test_rf)\n",
    "y_pred_rf += 1\n",
    "print(y_pred_rf)"
   ]
  },
  {
   "cell_type": "code",
   "execution_count": 76,
   "metadata": {},
   "outputs": [
    {
     "name": "stdout",
     "output_type": "stream",
     "text": [
      "<class 'numpy.ndarray'>\n"
     ]
    }
   ],
   "source": [
    "print(type(y_pred_rf))"
   ]
  },
  {
   "cell_type": "markdown",
   "metadata": {},
   "source": [
    "# NN"
   ]
  },
  {
   "cell_type": "code",
   "execution_count": 77,
   "metadata": {},
   "outputs": [
    {
     "name": "stdout",
     "output_type": "stream",
     "text": [
      "[[0.5272631  0.13114753 0.59870297 ... 0.         0.         0.        ]\n",
      " [0.5223094  0.1452622  0.57683    ... 0.         0.         0.        ]\n",
      " [0.5455335  0.10421839 0.277688   ... 0.         0.         0.        ]\n",
      " ...\n",
      " [0.54375    0.22950819 0.9357798  ... 0.         0.         0.        ]\n",
      " [0.46875    0.13114753 0.40366971 ... 0.         0.         0.        ]\n",
      " [0.5083059  0.16393442 0.40970537 ... 0.         0.         0.        ]]\n",
      "(117852, 207)\n",
      "[array([1, 2, 3, 4, 5])]\n"
     ]
    },
    {
     "data": {
      "text/plain": [
       "(117852, 5)"
      ]
     },
     "execution_count": 77,
     "metadata": {},
     "output_type": "execute_result"
    }
   ],
   "source": [
    "X_test_nn = X_test.to_numpy().astype(np.float32)\n",
    "y_test_nn = y_test.to_numpy().reshape(-1,1).astype(np.int_)\n",
    "\n",
    "print(np.asarray(X_test_nn))\n",
    "\n",
    "# x = tf.constant(np.asarray(x), dtype=tf.float64)\n",
    "# y = tf.constant(np.asarray(y).reshape(-1, 1), dtype=tf.float64)\n",
    "\n",
    "print(X_test_nn.shape)\n",
    "\n",
    "# convert to one hot vector\n",
    "from sklearn.preprocessing import OneHotEncoder\n",
    "ohe = OneHotEncoder(handle_unknown='ignore', sparse=False).fit(y_test_nn)\n",
    "print(ohe.categories_)\n",
    "\n",
    "y_test_nn = ohe.transform(y_test_nn)\n",
    "y_test_nn.shape"
   ]
  },
  {
   "cell_type": "code",
   "execution_count": 78,
   "metadata": {},
   "outputs": [
    {
     "name": "stdout",
     "output_type": "stream",
     "text": [
      "3683/3683 [==============================] - 1s 338us/step\n",
      "(117852, 5)\n",
      "(117852, 5)\n",
      "[4 4 0 ... 1 4 1]\n",
      "[5 4 1 ... 2 4 2]\n"
     ]
    }
   ],
   "source": [
    "y_pred_nn = model.predict(X_test_nn)\n",
    "from numpy import argmax\n",
    "\n",
    "print(y_test_nn.shape)\n",
    "print(y_pred_nn.shape)\n",
    "y_test_nn = argmax(a=y_test_nn, axis=1)\n",
    "y_pred_nn = argmax(a=y_pred_nn, axis=1)\n",
    "print(y_test_nn)\n",
    "y_pred_nn += 1\n",
    "print(y_pred_nn)"
   ]
  },
  {
   "cell_type": "code",
   "execution_count": 79,
   "metadata": {},
   "outputs": [
    {
     "name": "stdout",
     "output_type": "stream",
     "text": [
      "<class 'numpy.ndarray'>\n"
     ]
    }
   ],
   "source": [
    "print(type(y_pred_nn))"
   ]
  },
  {
   "cell_type": "markdown",
   "metadata": {},
   "source": [
    "# NB"
   ]
  },
  {
   "cell_type": "code",
   "execution_count": 80,
   "metadata": {},
   "outputs": [
    {
     "name": "stdout",
     "output_type": "stream",
     "text": [
      "<class 'pandas.core.series.Series'>\n",
      "<class 'numpy.ndarray'>\n",
      "544067    5.0\n",
      "552715    5.0\n",
      "311793    1.0\n",
      "559094    5.0\n",
      "526916    5.0\n",
      "         ... \n",
      "383258    1.0\n",
      "193160    4.0\n",
      "176775    2.0\n",
      "43779     5.0\n",
      "398645    2.0\n",
      "Name: esi, Length: 117852, dtype: float64 [1. 5. 1. ... 1. 5. 1.]\n"
     ]
    }
   ],
   "source": [
    "y_pred_nb = nb.predict(X_test)\n",
    "print(type(y_test))\n",
    "print(type(y_pred_nb))\n",
    "print(y_test, y_pred_nb)"
   ]
  },
  {
   "cell_type": "markdown",
   "metadata": {},
   "source": [
    "# Take Vote"
   ]
  },
  {
   "cell_type": "code",
   "execution_count": 81,
   "metadata": {},
   "outputs": [],
   "source": [
    "y_test = y_test.to_numpy()"
   ]
  },
  {
   "cell_type": "code",
   "execution_count": 82,
   "metadata": {},
   "outputs": [
    {
     "name": "stdout",
     "output_type": "stream",
     "text": [
      "<class 'numpy.ndarray'>\n",
      "<class 'numpy.ndarray'>\n",
      "<class 'numpy.ndarray'>\n"
     ]
    }
   ],
   "source": [
    "print(type(y_pred_nb))\n",
    "print(type(y_pred_nn))\n",
    "print(type(y_pred_rf))"
   ]
  },
  {
   "cell_type": "code",
   "execution_count": 83,
   "metadata": {},
   "outputs": [],
   "source": [
    "y_pred = np.zeros(len(y_test))"
   ]
  },
  {
   "cell_type": "code",
   "execution_count": 84,
   "metadata": {},
   "outputs": [],
   "source": [
    "from statistics import mode\n",
    "\n",
    "# mode() takes the first value that occurs the most,\n",
    "# if there are many modes. so the NN is picked in case of tie\n",
    "for i in range(len(y_test)):\n",
    "    y_pred[i] = mode([y_pred_nn[i], y_pred_nb[i], y_pred_rf[i]])"
   ]
  },
  {
   "cell_type": "code",
   "execution_count": 85,
   "metadata": {},
   "outputs": [
    {
     "data": {
      "text/plain": [
       "(array([1., 5., 1., ..., 2., 4., 2.]), array([5., 5., 1., ..., 2., 5., 2.]))"
      ]
     },
     "execution_count": 85,
     "metadata": {},
     "output_type": "execute_result"
    }
   ],
   "source": [
    "y_pred, y_test"
   ]
  },
  {
   "cell_type": "code",
   "execution_count": 86,
   "metadata": {},
   "outputs": [
    {
     "data": {
      "image/png": "[encoded data removed]",
      "text/plain": [
       "<Figure size 640x480 with 2 Axes>"
      ]
     },
     "metadata": {},
     "output_type": "display_data"
    }
   ],
   "source": [
    "ConfusionMatrixDisplay.from_predictions(y_test, y_pred)\n",
    "plt.savefig('/media/csuser/DATA/ARTEMIS/yale/figs/ensemble_confusion_yale_smote.png', dpi=500)"
   ]
  },
  {
   "cell_type": "code",
   "execution_count": 87,
   "metadata": {},
   "outputs": [
    {
     "name": "stdout",
     "output_type": "stream",
     "text": [
      "[23977. 15601. 11739. 15043. 19610.] [1.000e+00 7.713e+03 1.171e+04 8.552e+03 3.906e+03] [10513.  3984.  5908.  6575.  4902.]\n",
      "[0.69518701 0.79657901 0.66521222 0.69585531 0.80001632] [0.9999583  0.66916874 0.50061836 0.63755033 0.83390032] [0.82017514 0.7273363  0.57129648 0.66542808 0.81660698] [0.9999583  0.66916874 0.50061836 0.63755033 0.83390032]\n"
     ]
    }
   ],
   "source": [
    "TP = np.zeros(5)\n",
    "FP = np.zeros(5)\n",
    "FN = np.zeros(5)\n",
    "\n",
    "for i in range(5):\n",
    "    for j in range(len(y_test)):\n",
    "        \n",
    "        if int(y_test[j]) == i+1 and int(y_pred[j]) == i+1:\n",
    "            TP[i] += 1\n",
    "        elif int(y_test[j]) == i+1 and int(y_pred[j]) != i+1:\n",
    "            FN[i] += 1\n",
    "        elif int(y_test[j]) != i+1 and int(y_pred[j]) == i+1:\n",
    "            FP[i] += 1\n",
    "print(TP, FN, FP)\n",
    "\n",
    "# Precision or positive predictive value\n",
    "PPV = np.zeros(5)\n",
    "for i in range(5):\n",
    "    if TP[i]+FP[i] != 0:\n",
    "        PPV[i] = TP[i]/(TP[i]+FP[i])\n",
    "\n",
    "# Sensitivity, hit rate, recall, or true positive rate\n",
    "TPR = np.zeros(5)\n",
    "for i in range(len(TP)):\n",
    "    if TP[i]+FN[i] != 0:\n",
    "        TPR[i] = TP[i]/(TP[i]+FN[i])\n",
    "\n",
    "# Overall accuracy\n",
    "ACC = np.zeros(5)\n",
    "class_totals = np.zeros(5)\n",
    "for i in range(5):\n",
    "    for j in range(len(y_test)):\n",
    "        class_totals[int(y_test[j])-1] += 1\n",
    "        if int(y_test[j]) == int(y_pred[j]):\n",
    "            ACC[int(y_test[j])-1] += 1\n",
    "ACC /= class_totals\n",
    "\n",
    "# F1\n",
    "F1 = 2 * (PPV * TPR) / (PPV + TPR)\n",
    "\n",
    "print(PPV, TPR, F1, ACC)"
   ]
  },
  {
   "cell_type": "code",
   "execution_count": 88,
   "metadata": {},
   "outputs": [
    {
     "name": "stdout",
     "output_type": "stream",
     "text": [
      "Acc:  0.7294742558463158\n",
      "Prec:  0.7303320118447679\n",
      "Recall:  0.7294742558463158\n"
     ]
    }
   ],
   "source": [
    "acc = accuracy_score(y_test, y_pred)\n",
    "print('Acc: ', acc)\n",
    "\n",
    "prec = precision_score(y_test, y_pred, average='weighted')\n",
    "print('Prec: ', prec)\n",
    "\n",
    "recall = recall_score(y_test, y_pred, average='weighted')\n",
    "print('Recall: ', recall)"
   ]
  }
 ],
 "metadata": {
  "kernelspec": {
   "display_name": "tim",
   "language": "python",
   "name": "python3"
  },
  "language_info": {
   "codemirror_mode": {
    "name": "ipython",
    "version": 3
   },
   "file_extension": ".py",
   "mimetype": "text/x-python",
   "name": "python",
   "nbconvert_exporter": "python",
   "pygments_lexer": "ipython3",
   "version": "3.8.16"
  }
 },
 "nbformat": 4,
 "nbformat_minor": 2
}
